{
 "cells": [
  {
   "cell_type": "code",
   "execution_count": null,
   "id": "a979766a-26fd-466d-8b66-de256aab81aa",
   "metadata": {},
   "outputs": [],
   "source": [
    "start_year = \"2015\"\n",
    "end_year = \"2020\"\n",
    "params_simple_data_proc = {\"start_year\": start_year, \"end_year\": end_year} \n",
    "params_simple_data_proc"
   ]
  },
  {
   "cell_type": "code",
   "execution_count": null,
   "id": "b4c6e4cf-034b-4fe9-941e-53dcc5a81368",
   "metadata": {},
   "outputs": [],
   "source": [
    "import cybergis_compute_client\n",
    "from cybergis_compute_client import CyberGISCompute\n",
    "\n",
    "cybergis = CyberGISCompute(url=\"cgjobsup.cigi.illinois.edu\", isJupyter=True, protocol=\"HTTPS\", port=443, suffix=\"v2\")\n",
    "cybergis.show_ui(defaultJob=\"SimpleDataProc_Processor\", defaultDataFolder=\"./configs\", input_params=params_simple_data_proc)"
   ]
  },
  {
   "cell_type": "code",
   "execution_count": null,
   "id": "71fb1b01-4654-42b1-8165-7d4d56c1e1b7",
   "metadata": {},
   "outputs": [],
   "source": []
  }
 ],
 "metadata": {
  "kernelspec": {
   "display_name": "iguide",
   "language": "python",
   "name": "iguide"
  },
  "language_info": {
   "codemirror_mode": {
    "name": "ipython",
    "version": 3
   },
   "file_extension": ".py",
   "mimetype": "text/x-python",
   "name": "python",
   "nbconvert_exporter": "python",
   "pygments_lexer": "ipython3",
   "version": "3.8.16"
  }
 },
 "nbformat": 4,
 "nbformat_minor": 5
}
